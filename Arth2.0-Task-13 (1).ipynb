{
 "cells": [
  {
   "cell_type": "code",
   "execution_count": 12,
   "id": "1889cf1c",
   "metadata": {},
   "outputs": [],
   "source": [
    "# code for \"Taking  2 images and combine it to form a single image \"\n",
    "\n",
    "from PIL import Image\n",
    "import cv2"
   ]
  },
  {
   "cell_type": "code",
   "execution_count": 82,
   "id": "8f7b55c3",
   "metadata": {},
   "outputs": [
    {
     "data": {
      "text/plain": [
       "True"
      ]
     },
     "execution_count": 82,
     "metadata": {},
     "output_type": "execute_result"
    }
   ],
   "source": [
    "cap=cv2.VideoCapture(0)\n",
    "status, jivan=cap.read()\n",
    "cv2.imwrite(\"pic1.jpg\", jivan)"
   ]
  },
  {
   "cell_type": "code",
   "execution_count": 85,
   "id": "35060f82",
   "metadata": {},
   "outputs": [],
   "source": [
    "cap.release()"
   ]
  },
  {
   "cell_type": "code",
   "execution_count": 84,
   "id": "c87a111a",
   "metadata": {},
   "outputs": [
    {
     "data": {
      "text/plain": [
       "True"
      ]
     },
     "execution_count": 84,
     "metadata": {},
     "output_type": "execute_result"
    }
   ],
   "source": [
    "cap=cv2.VideoCapture(0)\n",
    "status, jivan=cap.read()\n",
    "cv2.imwrite(\"pic2.jpg\", jivan)"
   ]
  },
  {
   "cell_type": "code",
   "execution_count": null,
   "id": "2e225654",
   "metadata": {},
   "outputs": [],
   "source": [
    "cap.release()"
   ]
  },
  {
   "cell_type": "code",
   "execution_count": 93,
   "id": "c6ac60a2",
   "metadata": {},
   "outputs": [],
   "source": [
    "# Open the two images\n",
    "hello1=Image.open(\"pic1.jpg\")\n",
    "hello2=Image.open(\"pic2.jpg\")"
   ]
  },
  {
   "cell_type": "code",
   "execution_count": 94,
   "id": "88df43be",
   "metadata": {},
   "outputs": [],
   "source": [
    "hello1.show()\n",
    "hello2.show()"
   ]
  },
  {
   "cell_type": "code",
   "execution_count": 90,
   "id": "33e187b0",
   "metadata": {},
   "outputs": [],
   "source": [
    "\n",
    "# Ensure both images have the same mode and size\n",
    "hello1 = hello1.resize((200, 200)).convert(\"RGB\")\n",
    "hello2 = hello2.resize((200, 200)).convert(\"RGB\")\n",
    "# Extract channels\n",
    "r1, g1, b1 = hello1.split()\n",
    "r2, g2, b2 = hello2.split()\n",
    "# Merge using specific channels (example: R from hello1, G from hello2, B from hello1)\n",
    "merged_image = Image.merge(\"RGB\", (r1, g2, b1))"
   ]
  },
  {
   "cell_type": "code",
   "execution_count": 91,
   "id": "656d8e0a",
   "metadata": {},
   "outputs": [],
   "source": [
    "merged_image.show()"
   ]
  },
  {
   "cell_type": "code",
   "execution_count": 92,
   "id": "8fcb3507",
   "metadata": {},
   "outputs": [],
   "source": [
    "#code for \"Take 2 images, crop some part of both the images and swap them \"\n",
    "\n",
    "\n",
    "from PIL import Image\n",
    "\n",
    "# Open the two images\n",
    "hello1 = Image.open(\"pic1.jpg\")\n",
    "hello2 = Image.open(\"pic2.jpg\")\n",
    "\n",
    "# Define the crop box for both images (left, upper, right, lower)\n",
    "# Example: Crop a region (100x100) from both images\n",
    "box1 = (50, 50, 150, 150)  # Crop box for hello1\n",
    "box2 = (30, 30, 130, 130)  # Crop box for hello2\n",
    "\n",
    "# Crop the selected regions\n",
    "cropped_hello1 = hello1.crop(box1)\n",
    "cropped_hello2 = hello2.crop(box2)\n",
    "\n",
    "# Swap the cropped parts by pasting\n",
    "hello1.paste(cropped_hello2, box1)  # Paste part of hello2 into hello1\n",
    "hello2.paste(cropped_hello1, box2)  # Paste part of hello1 into hello2\n",
    "\n",
    "# Save or display the resulting images\n",
    "hello1.show()\n",
    "hello2.show()\n",
    "\n",
    "# Save the swapped images\n",
    "hello1.save(\"image1_swapped.jpg\")\n",
    "hello2.save(\"image2_swapped.jpg\")\n"
   ]
  },
  {
   "cell_type": "code",
   "execution_count": null,
   "id": "8317b980",
   "metadata": {},
   "outputs": [],
   "source": []
  }
 ],
 "metadata": {
  "kernelspec": {
   "display_name": "Python 3",
   "language": "python",
   "name": "python3"
  },
  "language_info": {
   "codemirror_mode": {
    "name": "ipython",
    "version": 3
   },
   "file_extension": ".py",
   "mimetype": "text/x-python",
   "name": "python",
   "nbconvert_exporter": "python",
   "pygments_lexer": "ipython3",
   "version": "3.8.8"
  }
 },
 "nbformat": 4,
 "nbformat_minor": 5
}
